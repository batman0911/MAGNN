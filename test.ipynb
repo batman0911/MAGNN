{
 "cells": [
  {
   "cell_type": "code",
   "execution_count": 6,
   "metadata": {
    "ExecuteTime": {
     "end_time": "2023-07-08T06:52:54.519354884Z",
     "start_time": "2023-07-08T06:52:54.473056096Z"
    }
   },
   "outputs": [],
   "source": [
    "import multiprocessing\n",
    "import time\n",
    "from itertools import product"
   ]
  },
  {
   "cell_type": "code",
   "execution_count": 7,
   "metadata": {
    "ExecuteTime": {
     "end_time": "2023-07-08T06:52:54.520573567Z",
     "start_time": "2023-07-08T06:52:54.519633288Z"
    }
   },
   "outputs": [
    {
     "data": {
      "text/plain": "<itertools.product at 0x7f624c696980>"
     },
     "execution_count": 7,
     "metadata": {},
     "output_type": "execute_result"
    }
   ],
   "source": [
    "names = ['Brown', 'Wilson', 'Bartlett', 'Rivera', 'Molloy', 'Opie']\n",
    "product(names, repeat=2)"
   ]
  },
  {
   "cell_type": "code",
   "execution_count": 8,
   "metadata": {
    "ExecuteTime": {
     "end_time": "2023-07-08T06:52:54.520725503Z",
     "start_time": "2023-07-08T06:52:54.519941056Z"
    }
   },
   "outputs": [],
   "source": [
    "def cube(x, y):\n",
    "    return [x+1, y+2]"
   ]
  },
  {
   "cell_type": "code",
   "execution_count": 11,
   "metadata": {},
   "outputs": [
    {
     "name": "stdout",
     "output_type": "stream",
     "text": [
      "[[1, 2], [2, 3], [3, 6], [4, 11], [5, 18], [6, 27], [7, 38], [8, 51], [9, 66], [10, 83]]\n"
     ]
    }
   ],
   "source": [
    "with multiprocessing.Pool(processes=2) as pool:\n",
    "    params = [(i, i*i) for i in range(10)]\n",
    "    results = pool.starmap(cube, params)\n",
    "print(results)"
   ]
  }
 ],
 "metadata": {
  "kernelspec": {
   "display_name": "magnn",
   "language": "python",
   "name": "python3"
  },
  "language_info": {
   "codemirror_mode": {
    "name": "ipython",
    "version": 3
   },
   "file_extension": ".py",
   "mimetype": "text/x-python",
   "name": "python",
   "nbconvert_exporter": "python",
   "pygments_lexer": "ipython3",
   "version": "3.11.3"
  },
  "orig_nbformat": 4
 },
 "nbformat": 4,
 "nbformat_minor": 2
}
